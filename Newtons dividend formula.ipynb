{
 "cells": [
  {
   "cell_type": "markdown",
   "id": "9b6bbcca",
   "metadata": {},
   "source": [
    "Used for Unequal intervals of x"
   ]
  },
  {
   "cell_type": "code",
   "execution_count": 1,
   "id": "659bfbf7",
   "metadata": {},
   "outputs": [
    {
     "name": "stdout",
     "output_type": "stream",
     "text": [
      "329.0\n"
     ]
    }
   ],
   "source": [
    "# Provide x, y values and then provide the xth term to be found in xr\n",
    "x = [2, 4, 9, 10]\n",
    "y = [4, 56, 711, 980]\n",
    "xr = 7\n",
    "yr = y[0]\n",
    "\n",
    "l = []\n",
    "considered_diffs = []\n",
    "\n",
    "for i in range(1, len(x)):\n",
    "  l.append((y[i] - y[i-1]) / (x[i] - x[i-1]))\n",
    "considered_diffs.append(l)\n",
    "\n",
    "j = 0\n",
    "k = 2\n",
    "while l.count(0) != len(l) and len(l) != 1:\n",
    "  temp, l = l, []\n",
    "  for i in range(1, len(temp)):\n",
    "    l.append((temp[i] - temp[i-1]) / (x[i+j+1] - x[i+j+1-k]))\n",
    "  considered_diffs.append(l)\n",
    "  j += 1\n",
    "  k += 1\n",
    "\n",
    "multipliers = 1\n",
    "for i in range(len(considered_diffs)):\n",
    "  multipliers *= xr - x[i]\n",
    "  yr += multipliers * considered_diffs[i][0]\n",
    "\n",
    "print(yr)"
   ]
  },
  {
   "cell_type": "code",
   "execution_count": null,
   "id": "906e3f70",
   "metadata": {},
   "outputs": [],
   "source": []
  }
 ],
 "metadata": {
  "kernelspec": {
   "display_name": "Python 3",
   "language": "python",
   "name": "python3"
  },
  "language_info": {
   "codemirror_mode": {
    "name": "ipython",
    "version": 3
   },
   "file_extension": ".py",
   "mimetype": "text/x-python",
   "name": "python",
   "nbconvert_exporter": "python",
   "pygments_lexer": "ipython3",
   "version": "3.9.5"
  }
 },
 "nbformat": 4,
 "nbformat_minor": 5
}
