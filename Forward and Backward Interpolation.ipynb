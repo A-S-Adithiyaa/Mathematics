{
 "cells": [
  {
   "cell_type": "markdown",
   "id": "1b2b1cee",
   "metadata": {},
   "source": [
    "Used for Equal intervals of x"
   ]
  },
  {
   "cell_type": "code",
   "execution_count": 1,
   "id": "e9619e09",
   "metadata": {},
   "outputs": [
    {
     "name": "stdout",
     "output_type": "stream",
     "text": [
      "329.0\n"
     ]
    }
   ],
   "source": [
    "# Provide x, y values and then provide the xth term to be found in xr\n",
    "x = [0, 2, 4, 6, 8, 10]\n",
    "y = [0, 4, 56, 204, 496, 980]\n",
    "xr = 7\n",
    "\n",
    "l = []\n",
    "considered_diffs = []\n",
    "h = x[1] - x[0]\n",
    "\n",
    "def factorial(num): #function that returns the factorial value\n",
    "  fact = 1\n",
    "  for i in range(num, 0, -1):\n",
    "    fact *= i\n",
    "  return fact\n",
    "\n",
    "for i in range(1, len(x)):\n",
    "  l.append(y[i] - y[i-1])\n",
    "considered_diffs.append(l)\n",
    "\n",
    "while l.count(0) != len(l) and len(l) != 1:\n",
    "  temp, l = l, []\n",
    "  for i in range(1, len(temp)):\n",
    "    l.append(temp[i] - temp[i-1])\n",
    "  considered_diffs.append(l)\n",
    "\n",
    "terms = len(considered_diffs)\n",
    "\n",
    "if xr <= (x[0] + x[-1]) / 2:\n",
    "  yr = y[0]\n",
    "  r = (xr - x[0]) / h\n",
    "  multipliers = r\n",
    "  for i in range(terms):\n",
    "    yr += float(considered_diffs[i][0] * multipliers / factorial(i+1))\n",
    "    multipliers *= (r-i-1)\n",
    "else:\n",
    "  yr = y[-1]\n",
    "  r = (xr - x[-1]) / h\n",
    "  multipliers = r\n",
    "  for i in range(terms):\n",
    "    yr += float(considered_diffs[i][-1] * multipliers / factorial(i+1))\n",
    "    multipliers *= (r+i+1)\n",
    "print(yr)"
   ]
  },
  {
   "cell_type": "code",
   "execution_count": null,
   "id": "3e13fd7e",
   "metadata": {},
   "outputs": [],
   "source": []
  }
 ],
 "metadata": {
  "kernelspec": {
   "display_name": "Python 3",
   "language": "python",
   "name": "python3"
  },
  "language_info": {
   "codemirror_mode": {
    "name": "ipython",
    "version": 3
   },
   "file_extension": ".py",
   "mimetype": "text/x-python",
   "name": "python",
   "nbconvert_exporter": "python",
   "pygments_lexer": "ipython3",
   "version": "3.9.5"
  }
 },
 "nbformat": 4,
 "nbformat_minor": 5
}
